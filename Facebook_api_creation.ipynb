{
 "cells": [
  {
   "cell_type": "code",
   "execution_count": 62,
   "id": "c3436b91",
   "metadata": {},
   "outputs": [],
   "source": [
    "import json\n",
    "import facebook"
   ]
  },
  {
   "cell_type": "code",
   "execution_count": 63,
   "id": "3dee1521",
   "metadata": {},
   "outputs": [],
   "source": [
    "# getting access token for abra_ka_dabra api\n",
    "token = \"EAASohwG3cwQBAHB0vImdUcNPlt3vfYsVOVPrwpe9BrNZBKZBWSyQOKwl8acvO2XNjiPVRoMfXXB14HfvJh2r3INfZAkUjP3PGN5bIQRS7FZA6pxBA0JYg8b4PyK2wVgJ6yZCgrcpq8Y0H4ZAqjLesStrFFV8ZAOJIk2GQqkEC8WhilzNKD4ZBOhyB9840yB50ykZD\"\n",
    "graph = facebook.GraphAPI(token)"
   ]
  },
  {
   "cell_type": "code",
   "execution_count": 65,
   "id": "b6104883",
   "metadata": {},
   "outputs": [
    {
     "data": {
      "text/plain": [
       "{'id': '103741415902606_110784238520669'}"
      ]
     },
     "execution_count": 65,
     "metadata": {},
     "output_type": "execute_result"
    }
   ],
   "source": [
    "# posting a msg on facebook page\n",
    "graph.put_object(\"me\",\"feed\",message=\"Foodies,Craving!!come and eat !! NOT ME !! My food!\")"
   ]
  },
  {
   "cell_type": "code",
   "execution_count": 66,
   "id": "db4c5069",
   "metadata": {},
   "outputs": [
    {
     "data": {
      "text/plain": [
       "{'created_time': '2022-11-20T07:10:54+0000',\n",
       " 'message': 'Foodies,Craving!!come and eat !! NOT ME !! My food!',\n",
       " 'id': '6030276890358434_110784238520669'}"
      ]
     },
     "execution_count": 66,
     "metadata": {},
     "output_type": "execute_result"
    }
   ],
   "source": [
    "#getting the contents of page\n",
    "graph.get_object(\"\")"
   ]
  },
  {
   "cell_type": "code",
   "execution_count": 67,
   "id": "1329dbe0",
   "metadata": {},
   "outputs": [
    {
     "name": "stdout",
     "output_type": "stream",
     "text": [
      "{\n",
      "    \"data\": [\n",
      "        {\n",
      "            \"created_time\": \"2022-11-20T07:11:34+0000\",\n",
      "            \"from\": {\n",
      "                \"name\": \"Cooking_shooking\",\n",
      "                \"id\": \"103741415902606\"\n",
      "            },\n",
      "            \"message\": \"fooodies\",\n",
      "            \"id\": \"110784238520669_1416431319095561\"\n",
      "        },\n",
      "        {\n",
      "            \"created_time\": \"2022-11-20T07:11:30+0000\",\n",
      "            \"from\": {\n",
      "                \"name\": \"Cooking_shooking\",\n",
      "                \"id\": \"103741415902606\"\n",
      "            },\n",
      "            \"message\": \"heyyyyyy\",\n",
      "            \"id\": \"110784238520669_2306102612889090\"\n",
      "        }\n",
      "    ],\n",
      "    \"paging\": {\n",
      "        \"cursors\": {\n",
      "            \"before\": \"WTI5dGJXVnVkRjlqZAFhKemIzSTZANVFF4TmpRek1UTXhPVEE1TlRVMk1Ub3hOalk0T1RJNE1qazAZD\",\n",
      "            \"after\": \"WTI5dGJXVnVkRjlqZAFhKemIzSTZANak13TmpFd01qWXhNamc0T1RBNU1Eb3hOalk0T1RJNE1qa3cZD\"\n",
      "        }\n",
      "    },\n",
      "    \"summary\": {\n",
      "        \"total_count\": 2\n",
      "    }\n",
      "}\n"
     ]
    }
   ],
   "source": [
    "#collecting post analytics-comments\n",
    "posts_25 = graph.get_connections(id ='103741415902606_110784238520669', connection_name ='comments', \n",
    "                                     include_hidden = True, order ='reverse_chronological',\n",
    "                                     filter ='stream', summary ='total_count')\n",
    "  \n",
    "print(json.dumps(posts_25, indent = 4))"
   ]
  }
 ],
 "metadata": {
  "kernelspec": {
   "display_name": "Python 3 (ipykernel)",
   "language": "python",
   "name": "python3"
  },
  "language_info": {
   "codemirror_mode": {
    "name": "ipython",
    "version": 3
   },
   "file_extension": ".py",
   "mimetype": "text/x-python",
   "name": "python",
   "nbconvert_exporter": "python",
   "pygments_lexer": "ipython3",
   "version": "3.9.12"
  }
 },
 "nbformat": 4,
 "nbformat_minor": 5
}
